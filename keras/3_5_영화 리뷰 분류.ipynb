{
  "nbformat": 4,
  "nbformat_minor": 0,
  "metadata": {
    "colab": {
      "name": "3.5-classifying-movie-reviews.ipynb",
      "version": "0.3.2",
      "provenance": []
    },
    "kernelspec": {
      "display_name": "Python 3",
      "language": "python",
      "name": "python3"
    }
  },
  "cells": [
    {
      "metadata": {
        "id": "XdpVKoTh6IJe",
        "colab_type": "code",
        "colab": {
          "base_uri": "https://localhost:8080/",
          "height": 51
        },
        "outputId": "3fe155fb-1d15-4cb2-a598-baf876d1eace"
      },
      "cell_type": "code",
      "source": [
        "import keras\n",
        "keras.__version__"
      ],
      "execution_count": 1,
      "outputs": [
        {
          "output_type": "stream",
          "text": [
            "Using TensorFlow backend.\n"
          ],
          "name": "stderr"
        },
        {
          "output_type": "execute_result",
          "data": {
            "text/plain": [
              "'2.2.4'"
            ]
          },
          "metadata": {
            "tags": []
          },
          "execution_count": 1
        }
      ]
    },
    {
      "metadata": {
        "id": "dsSZUV7x6IJm",
        "colab_type": "text"
      },
      "cell_type": "markdown",
      "source": [
        "# 영화 리뷰 분류: 이진 분류 예제\n",
        "\n",
        "This notebook contains the code samples found in Chapter 3, Section 5 of [Deep Learning with Python](https://www.manning.com/books/deep-learning-with-python?a_aid=keras&a_bid=76564dff). Note that the original text features far more content, in particular further explanations and figures: in this notebook, you will only find source code and related comments.\n",
        "\n",
        "----\n",
        "\n",
        "\n",
        "Two-class classification, or binary classification, may be the most widely applied kind of machine learning problem. In this example, we \n",
        "will learn to classify movie reviews into \"positive\" reviews and \"negative\" reviews, just based on the text content of the reviews."
      ]
    },
    {
      "metadata": {
        "id": "l0qhlFrM6IJn",
        "colab_type": "text"
      },
      "cell_type": "markdown",
      "source": [
        "## The IMDB dataset\n",
        "\n",
        "<img src = \"https://www.imdb.com/?ref_=nv_home\">\n",
        "\n",
        "link : https://www.imdb.com\n",
        "\n",
        "We'll be working with \"IMDB dataset\", a set of 50,000 highly-polarized reviews from the Internet Movie Database. They are split into 25,000 \n",
        "reviews for training and 25,000 reviews for testing, each set consisting in 50% negative and 50% positive reviews.\n",
        "\n",
        "**Why do we have these two separate training and test sets? You should never test a machine learning model on the same data that you used to \n",
        "train it! Just because a model performs well on its training data doesn't mean that it will perform well on data it has never seen, and \n",
        "what you actually care about is your model's performance on new data (since you already know the labels of your training data -- obviously \n",
        "you don't need your model to predict those).**\n",
        "\n",
        "Just like the MNIST dataset, the IMDB dataset comes packaged with Keras. It has already been preprocessed: the reviews (sequences of words) \n",
        "have been turned into sequences of integers, where each integer stands for a specific word in a dictionary.\n",
        "\n",
        "The following code will load the dataset (when you run it for the first time, about 80MB of data will be downloaded to your machine):"
      ]
    },
    {
      "metadata": {
        "id": "70LksQqk6IJo",
        "colab_type": "code",
        "colab": {
          "base_uri": "https://localhost:8080/",
          "height": 51
        },
        "outputId": "4b3e7ce7-03a9-4fc6-d307-904ac52ddb2c"
      },
      "cell_type": "code",
      "source": [
        "from keras.datasets import imdb\n",
        "\n",
        "(train_data, train_labels), (test_data, test_labels) = imdb.load_data(num_words=10000)"
      ],
      "execution_count": 2,
      "outputs": [
        {
          "output_type": "stream",
          "text": [
            "Downloading data from https://s3.amazonaws.com/text-datasets/imdb.npz\n",
            "17465344/17464789 [==============================] - 2s 0us/step\n"
          ],
          "name": "stdout"
        }
      ]
    },
    {
      "metadata": {
        "id": "AJmU48cV6IJr",
        "colab_type": "text"
      },
      "cell_type": "markdown",
      "source": [
        "**num_words = 10000 매개변수는 훈련 데이터에서 가장 자주 나타나는 단어 1만개만 사용. 드물게 나타나는 단어는 무시.  **\n",
        "\n",
        "The variables `train_data` and `test_data` are lists of reviews, each review being a list of word indices (encoding a sequence of words). \n",
        "`train_labels` and `test_labels` are lists of 0s and 1s, where 0 stands for \"negative\" and 1 stands for \"positive\":\n",
        "\n",
        "**변수 train_data와 test_data는 리뷰의 목록. <br>**\n",
        "각 리뷰는 단어 인덱스의 리스트 (단어 시퀀스가 인코딩 된 것)) <br>\n",
        "train_labels와 test_labels는 **부정**을 나타내는 0과 **긍정**을 나타내는 1의 리스트임.  <br>"
      ]
    },
    {
      "metadata": {
        "id": "9KJxjxVP6IJs",
        "colab_type": "code",
        "colab": {
          "base_uri": "https://localhost:8080/",
          "height": 3723
        },
        "outputId": "3f5a025b-3ff2-444b-caf2-93c18b7ca471"
      },
      "cell_type": "code",
      "source": [
        "train_data[0]"
      ],
      "execution_count": 3,
      "outputs": [
        {
          "output_type": "execute_result",
          "data": {
            "text/plain": [
              "[1,\n",
              " 14,\n",
              " 22,\n",
              " 16,\n",
              " 43,\n",
              " 530,\n",
              " 973,\n",
              " 1622,\n",
              " 1385,\n",
              " 65,\n",
              " 458,\n",
              " 4468,\n",
              " 66,\n",
              " 3941,\n",
              " 4,\n",
              " 173,\n",
              " 36,\n",
              " 256,\n",
              " 5,\n",
              " 25,\n",
              " 100,\n",
              " 43,\n",
              " 838,\n",
              " 112,\n",
              " 50,\n",
              " 670,\n",
              " 2,\n",
              " 9,\n",
              " 35,\n",
              " 480,\n",
              " 284,\n",
              " 5,\n",
              " 150,\n",
              " 4,\n",
              " 172,\n",
              " 112,\n",
              " 167,\n",
              " 2,\n",
              " 336,\n",
              " 385,\n",
              " 39,\n",
              " 4,\n",
              " 172,\n",
              " 4536,\n",
              " 1111,\n",
              " 17,\n",
              " 546,\n",
              " 38,\n",
              " 13,\n",
              " 447,\n",
              " 4,\n",
              " 192,\n",
              " 50,\n",
              " 16,\n",
              " 6,\n",
              " 147,\n",
              " 2025,\n",
              " 19,\n",
              " 14,\n",
              " 22,\n",
              " 4,\n",
              " 1920,\n",
              " 4613,\n",
              " 469,\n",
              " 4,\n",
              " 22,\n",
              " 71,\n",
              " 87,\n",
              " 12,\n",
              " 16,\n",
              " 43,\n",
              " 530,\n",
              " 38,\n",
              " 76,\n",
              " 15,\n",
              " 13,\n",
              " 1247,\n",
              " 4,\n",
              " 22,\n",
              " 17,\n",
              " 515,\n",
              " 17,\n",
              " 12,\n",
              " 16,\n",
              " 626,\n",
              " 18,\n",
              " 2,\n",
              " 5,\n",
              " 62,\n",
              " 386,\n",
              " 12,\n",
              " 8,\n",
              " 316,\n",
              " 8,\n",
              " 106,\n",
              " 5,\n",
              " 4,\n",
              " 2223,\n",
              " 5244,\n",
              " 16,\n",
              " 480,\n",
              " 66,\n",
              " 3785,\n",
              " 33,\n",
              " 4,\n",
              " 130,\n",
              " 12,\n",
              " 16,\n",
              " 38,\n",
              " 619,\n",
              " 5,\n",
              " 25,\n",
              " 124,\n",
              " 51,\n",
              " 36,\n",
              " 135,\n",
              " 48,\n",
              " 25,\n",
              " 1415,\n",
              " 33,\n",
              " 6,\n",
              " 22,\n",
              " 12,\n",
              " 215,\n",
              " 28,\n",
              " 77,\n",
              " 52,\n",
              " 5,\n",
              " 14,\n",
              " 407,\n",
              " 16,\n",
              " 82,\n",
              " 2,\n",
              " 8,\n",
              " 4,\n",
              " 107,\n",
              " 117,\n",
              " 5952,\n",
              " 15,\n",
              " 256,\n",
              " 4,\n",
              " 2,\n",
              " 7,\n",
              " 3766,\n",
              " 5,\n",
              " 723,\n",
              " 36,\n",
              " 71,\n",
              " 43,\n",
              " 530,\n",
              " 476,\n",
              " 26,\n",
              " 400,\n",
              " 317,\n",
              " 46,\n",
              " 7,\n",
              " 4,\n",
              " 2,\n",
              " 1029,\n",
              " 13,\n",
              " 104,\n",
              " 88,\n",
              " 4,\n",
              " 381,\n",
              " 15,\n",
              " 297,\n",
              " 98,\n",
              " 32,\n",
              " 2071,\n",
              " 56,\n",
              " 26,\n",
              " 141,\n",
              " 6,\n",
              " 194,\n",
              " 7486,\n",
              " 18,\n",
              " 4,\n",
              " 226,\n",
              " 22,\n",
              " 21,\n",
              " 134,\n",
              " 476,\n",
              " 26,\n",
              " 480,\n",
              " 5,\n",
              " 144,\n",
              " 30,\n",
              " 5535,\n",
              " 18,\n",
              " 51,\n",
              " 36,\n",
              " 28,\n",
              " 224,\n",
              " 92,\n",
              " 25,\n",
              " 104,\n",
              " 4,\n",
              " 226,\n",
              " 65,\n",
              " 16,\n",
              " 38,\n",
              " 1334,\n",
              " 88,\n",
              " 12,\n",
              " 16,\n",
              " 283,\n",
              " 5,\n",
              " 16,\n",
              " 4472,\n",
              " 113,\n",
              " 103,\n",
              " 32,\n",
              " 15,\n",
              " 16,\n",
              " 5345,\n",
              " 19,\n",
              " 178,\n",
              " 32]"
            ]
          },
          "metadata": {
            "tags": []
          },
          "execution_count": 3
        }
      ]
    },
    {
      "metadata": {
        "id": "cidnueB_6IJx",
        "colab_type": "code",
        "colab": {
          "base_uri": "https://localhost:8080/",
          "height": 34
        },
        "outputId": "5e728160-758d-4790-cc27-b389aed564c1"
      },
      "cell_type": "code",
      "source": [
        "train_labels[0]"
      ],
      "execution_count": 4,
      "outputs": [
        {
          "output_type": "execute_result",
          "data": {
            "text/plain": [
              "1"
            ]
          },
          "metadata": {
            "tags": []
          },
          "execution_count": 4
        }
      ]
    },
    {
      "metadata": {
        "id": "zS0NRxXY7U2f",
        "colab_type": "text"
      },
      "cell_type": "markdown",
      "source": [
        "자주 등장하는 단어 1만개로 제한했기 때문에 인덱스는 10,000을 넘지 않는 것을 확인할 수 있다. "
      ]
    },
    {
      "metadata": {
        "id": "y9gDixvK6IJ2",
        "colab_type": "code",
        "colab": {
          "base_uri": "https://localhost:8080/",
          "height": 34
        },
        "outputId": "c1a1813e-31ab-421c-dbc5-85b7e11f6714"
      },
      "cell_type": "code",
      "source": [
        "max([max(sequence) for sequence in train_data])"
      ],
      "execution_count": 5,
      "outputs": [
        {
          "output_type": "execute_result",
          "data": {
            "text/plain": [
              "9999"
            ]
          },
          "metadata": {
            "tags": []
          },
          "execution_count": 5
        }
      ]
    },
    {
      "metadata": {
        "id": "u-qPt17u6IJ9",
        "colab_type": "text"
      },
      "cell_type": "markdown",
      "source": [
        "For kicks, here's how you can quickly decode one of these reviews back to English words:\n",
        "\n",
        "리뷰를 다시 영어로 번역하고 싶을 때는: "
      ]
    },
    {
      "metadata": {
        "id": "sxviYqD-6IJ-",
        "colab_type": "code",
        "colab": {
          "base_uri": "https://localhost:8080/",
          "height": 51
        },
        "outputId": "717346b3-c94d-475c-f11e-f016541c7f65"
      },
      "cell_type": "code",
      "source": [
        "# word_index is a dictionary mapping words to an integer index\n",
        "# word_index는 단어와 정수 인덱스를 매핑한 딕셔너리 \n",
        "word_index = imdb.get_word_index()\n",
        "# We reverse it, mapping integer indices to words\n",
        "# 정수 인덱스와 단어를 매핑하도록 뒤집는다. \n",
        "reverse_word_index = dict([(value, key) for (key, value) in word_index.items()])\n",
        "# We decode the review; note that our indices were offset by 3\n",
        "# because 0, 1 and 2 are reserved indices for \"padding\", \"start of sequence\", and \"unknown\".\n",
        "# 리뷰를 디코딩한다. 0,1,2는 '패딩', '문서 시작', '사전에 없음'을 위한 인덱스이므로 3을 뺌.\n",
        "decoded_review = ' '.join([reverse_word_index.get(i - 3, '?') for i in train_data[0]])"
      ],
      "execution_count": 6,
      "outputs": [
        {
          "output_type": "stream",
          "text": [
            "Downloading data from https://s3.amazonaws.com/text-datasets/imdb_word_index.json\n",
            "1646592/1641221 [==============================] - 2s 1us/step\n"
          ],
          "name": "stdout"
        }
      ]
    },
    {
      "metadata": {
        "id": "O62ehGuW6IKA",
        "colab_type": "code",
        "colab": {
          "base_uri": "https://localhost:8080/",
          "height": 54
        },
        "outputId": "412920ed-26cb-4d61-9255-274d2398096d"
      },
      "cell_type": "code",
      "source": [
        "decoded_review"
      ],
      "execution_count": 7,
      "outputs": [
        {
          "output_type": "execute_result",
          "data": {
            "text/plain": [
              "\"? this film was just brilliant casting location scenery story direction everyone's really suited the part they played and you could just imagine being there robert ? is an amazing actor and now the same being director ? father came from the same scottish island as myself so i loved the fact there was a real connection with this film the witty remarks throughout the film were great it was just brilliant so much that i bought the film as soon as it was released for ? and would recommend it to everyone to watch and the fly fishing was amazing really cried at the end it was so sad and you know what they say if you cry at a film it must have been good and this definitely was also ? to the two little boy's that played the ? of norman and paul they were just brilliant children are often left out of the ? list i think because the stars that play them all grown up are such a big profile for the whole film but these children are amazing and should be praised for what they have done don't you think the whole story was so lovely because it was true and was someone's life after all that was shared with us all\""
            ]
          },
          "metadata": {
            "tags": []
          },
          "execution_count": 7
        }
      ]
    },
    {
      "metadata": {
        "id": "GUIdfL9T6IKE",
        "colab_type": "text"
      },
      "cell_type": "markdown",
      "source": [
        "## 데이터 준비\n",
        "\n",
        "신경망에 숫자 리스트를 주입할 수는 없음. 리스트 -> 텐서로 바꿈. \n",
        "\n",
        "1) 같은 길이가 되도록 리스트에 패딩(padding)을 추가하고 (samples, sequence_length)크기의 정수 텐서로 변환. 그 다음 이 정수 텐서를 다룰 수 있는 층을 신경망의 첫 번째 층으로 사용\n",
        "\n",
        "2) 리스트를 원핫인코딩하여 0과 1의 벡터로 변환한다. 예를 들어 시퀀스 [3,5]를 인덱스 3과 5의 위치는 1이고 그 외는 모두 0인 10,000차원의 벡터로 각각 변환한다. 그 다음 부동 소수 벡터 데이터를 다룰 수 있는 Dense층을 신경망의 첫 번째 층으로 사용한다. \n",
        "\n",
        "여기서는 2번째 방식을 사용하고 이해를 돕기 위해 직접 데이터를 원-핫 벡터로 만듦."
      ]
    },
    {
      "metadata": {
        "id": "MPKC_rNz6IKF",
        "colab_type": "code",
        "colab": {}
      },
      "cell_type": "code",
      "source": [
        "import numpy as np\n",
        "\n",
        "def vectorize_sequences(sequences, dimension=10000):\n",
        "    # Create an all-zero matrix of shape (len(sequences), dimension)\n",
        "    # 크기가  len(sequences),dimension)이고 모든 원소가 0인 행렬을 만듦\n",
        "    results = np.zeros((len(sequences), dimension))\n",
        "    for i, sequence in enumerate(sequences):\n",
        "        results[i, sequence] = 1.  # set specific indices of results[i] to 1s\n",
        "        #results[i]에서 특정 인덱스의 위치를 1로 만듦\n",
        "    return results\n",
        "\n",
        "# Our vectorized training data #훈련 데이터를 벡터로 변환\n",
        "x_train = vectorize_sequences(train_data)\n",
        "# Our vectorized test data #테스트 데이터를 벡터로 변환\n",
        "x_test = vectorize_sequences(test_data)"
      ],
      "execution_count": 0,
      "outputs": []
    },
    {
      "metadata": {
        "id": "kZgL6uOm6IKJ",
        "colab_type": "text"
      },
      "cell_type": "markdown",
      "source": [
        "Here's what our samples look like now:"
      ]
    },
    {
      "metadata": {
        "id": "NTNh2rQ_6IKJ",
        "colab_type": "code",
        "colab": {
          "base_uri": "https://localhost:8080/",
          "height": 34
        },
        "outputId": "86dbb581-fdb2-40db-8137-30d4bdc35dde"
      },
      "cell_type": "code",
      "source": [
        "x_train[0]"
      ],
      "execution_count": 9,
      "outputs": [
        {
          "output_type": "execute_result",
          "data": {
            "text/plain": [
              "array([0., 1., 1., ..., 0., 0., 0.])"
            ]
          },
          "metadata": {
            "tags": []
          },
          "execution_count": 9
        }
      ]
    },
    {
      "metadata": {
        "id": "U4PcrVl-6IKN",
        "colab_type": "text"
      },
      "cell_type": "markdown",
      "source": [
        "레이블은 쉽게 벡터로 바꿀 수 있음. "
      ]
    },
    {
      "metadata": {
        "id": "8yJH-12G6IKO",
        "colab_type": "code",
        "colab": {}
      },
      "cell_type": "code",
      "source": [
        "# Our vectorized labels\n",
        "y_train = np.asarray(train_labels).astype('float32')\n",
        "y_test = np.asarray(test_labels).astype('float32')"
      ],
      "execution_count": 0,
      "outputs": []
    },
    {
      "metadata": {
        "id": "tT-PxGdR6IKR",
        "colab_type": "text"
      },
      "cell_type": "markdown",
      "source": [
        "데이터 준비 완료"
      ]
    },
    {
      "metadata": {
        "id": "cByPZfFS6IKS",
        "colab_type": "text"
      },
      "cell_type": "markdown",
      "source": [
        "## Building our network\n",
        "## 신경망 모델 만들기\n",
        "\n",
        "**입력 데이터가 벡터, 레이블은 스칼라 (1 또는 0)임. 앞으로 볼 수 있는 문제 중에서 가장 간단한 형태. 이런 문제에 잘 작동하는 네트워크 종류는 relu 활성화 함수를 사용한 완전 연결 층(즉  Dense(16,activation='relu'))를 그냥 쌓은 것임. **\n",
        "\n",
        "**Dense 층에 전달한 매개변수(16)는 은닉 유닛(hidden unit)의 개수임. 하나의 은닉 유닛은 층이 나타내는 표현 공간에서 하나의 차원이 됨. 2장에서 relu 활성화 함수를 사용한 Dense층을 다음 텐서 연산을 연결하여 구현함.**\n",
        "\n",
        "`output = relu(dot(W, input) + b)`\n",
        "\n",
        "** 16개의 은닉 유닛이 있다는 것은 가중치 행렬 W의 크기가 (input_dimension, 16)이라는 뜻**\n",
        "\n",
        "Having 16 hidden units means that the weight matrix `W` will have shape `(input_dimension, 16)`, i.e. the dot product with `W` will project the \n",
        "input data onto a 16-dimensional representation space (and then we would add the bias vector `b` and apply the `relu` operation). You can \n",
        "intuitively understand the dimensionality of your representation space as \"how much freedom you are allowing the network to have when \n",
        "learning internal representations\". Having more hidden units (a higher-dimensional representation space) allows your network to learn more \n",
        "complex representations, but it makes your network more computationally expensive and may lead to learning unwanted patterns (patterns that \n",
        "will improve performance on the training data but not on the test data).\n",
        "\n",
        "There are two key architecture decisions to be made about such stack of dense layers: <br>\n",
        "\n",
        "**Dense 층을 쌓을 때 2가지 중요한 구조상의 결정이 필요함**\n",
        "\n",
        "* How many layers to use. 얼마나 많은 층을 사용할 것인가? \n",
        "* How many \"hidden units\" to chose for each layer. 각 층에 얼마나 많은 은닉 유닛을 둘 것인가?\n",
        "\n",
        "**4장에서 자세한 원리를 배울 예정이지만, 우선은 이렇게 가보자. \n",
        "16개의 은닉 유닛을 가진 2개의 은닉 층\n",
        "현재 리뷰의 감정을 스칼라 값의 예측으로 출력하는 3번째 층**\n",
        "\n",
        "In the next chapter, you will learn formal principles to guide you in making these choices. \n",
        "For the time being, you will have to trust us with the following architecture choice: \n",
        "two intermediate layers with 16 hidden units each, and a third layer which will output the scalar prediction regarding the sentiment of the current review. \n",
        "\n",
        "The intermediate layers will use **`relu`** as their \"activation function\",\n",
        "and the final layer will use a sigmoid activation so as to output a probability (a score between 0 and 1, indicating how likely the sample is to have the target \"1\", i.e. how likely the review is to be positive). \n",
        "\n",
        "A `relu` (rectified linear unit) is a function meant to zero-out negative values, \n",
        "while a sigmoid \"squashes\" arbitrary values into the `[0, 1]` interval, thus outputting something that can be interpreted as a probability.\n",
        "\n",
        "**중간에 있는 은닉 층은 활성화 함수로 relu를 사용하고 마지막 층은 확률(0과 1사이의 점수로, 어떤 샘플이 타깃 '1'일 가능성이 높다는 것은 그 리뷰가 긍정일 가능성이 높다는 것을 의미함)을 출력하기 위해 시그모이드 활성화 함수 사용. relu는 음수를 0으로 만드는 함수. 시그모이드는 임의의 값을 [0,1] 사이로 압축하므로 출력 값을 확률 처럼 해석 가능.**"
      ]
    },
    {
      "metadata": {
        "id": "Nj9pRETO6IKS",
        "colab_type": "text"
      },
      "cell_type": "markdown",
      "source": [
        "Here's what our network looks like:\n",
        "\n",
        "## 3개의 층으로 된 신경망\n",
        "\n",
        "![3-layer network](https://s3.amazonaws.com/book.keras.io/img/ch3/3_layer_network.png)"
      ]
    },
    {
      "metadata": {
        "id": "BD1IVVcV6IKU",
        "colab_type": "text"
      },
      "cell_type": "markdown",
      "source": [
        "And here's the Keras implementation, very similar to the MNIST example you saw previously:\n",
        "\n",
        "그림 3-6에서 이 신경망을 보여줌. 다음은 이 신경망의 케라스 구현임. 이전에 보았던 MNIST 예제와 비슷함. (챕터 2-1.예제 참조)"
      ]
    },
    {
      "metadata": {
        "id": "rAgcPvfe6IKW",
        "colab_type": "code",
        "colab": {
          "base_uri": "https://localhost:8080/",
          "height": 88
        },
        "outputId": "f2d46d48-8370-4bba-da6a-c57df33e6a4f"
      },
      "cell_type": "code",
      "source": [
        "from keras import models\n",
        "from keras import layers\n",
        "\n",
        "model = models.Sequential()\n",
        "model.add(layers.Dense(16, activation='relu', input_shape=(10000,)))\n",
        "model.add(layers.Dense(16, activation='relu'))\n",
        "model.add(layers.Dense(1, activation='sigmoid'))"
      ],
      "execution_count": 11,
      "outputs": [
        {
          "output_type": "stream",
          "text": [
            "WARNING:tensorflow:From /usr/local/lib/python3.6/dist-packages/tensorflow/python/framework/op_def_library.py:263: colocate_with (from tensorflow.python.framework.ops) is deprecated and will be removed in a future version.\n",
            "Instructions for updating:\n",
            "Colocations handled automatically by placer.\n"
          ],
          "name": "stdout"
        }
      ]
    },
    {
      "metadata": {
        "id": "T8fqWWfA6IKY",
        "colab_type": "text"
      },
      "cell_type": "markdown",
      "source": [
        "**마지막으로 손실 함수와 옵티마이저 선택해야함. \n",
        "이진 분류 문제고 신경망의 출력이 확률이기 때문에 binary_crossentropy 손실이 적합. (mean_squared_error도 사용 가능함)\n",
        "확률을 출력하는 모델을 사용할 때는 크로스엔트로피가 최선의 선택. (정보 이론 분야에서 온 개념으로, 확률 분포 간의 차이를 측정)\n",
        "여기서는 원본 분포와 예측 분포 사이를 측정. **\n",
        "\n",
        "다음은 rmsprop옵티마이저와binary_Crossentropy손실함수로 모델을 설정하는 단계임. 훈련하는 동안 정확도를 사용하여 모니터링할 예정. "
      ]
    },
    {
      "metadata": {
        "id": "T3X1aaRB6IKg",
        "colab_type": "text"
      },
      "cell_type": "markdown",
      "source": [
        "**케라스에 rmsprop, binary_crossentropy, accuracy가 포함되어있기 때문에 옵티마이저, 손실 함수, 측정 지표를 문자열로 지정하는 것이 가능함. 이따금 옵티마이저의 매개변수를 바꾸거나 자신만의 손실 함수, 측정 함수를 전달해야할 경우가 있음. 전자의 경우에는 아래와 같이 옵티마이저 파이썬 클래스를 사용해서 객체를 직접 만들어 optimizer 매개 변수에 전달하면 됨.**\n",
        "\n",
        "We are passing our optimizer, loss function and metrics as strings, which is possible because `rmsprop`, `binary_crossentropy` and \n",
        "`accuracy` are packaged as part of Keras. Sometimes you may want to configure the parameters of your optimizer, or pass a custom loss \n",
        "function or metric function. This former can be done by passing an optimizer class instance as the `optimizer` argument:"
      ]
    },
    {
      "metadata": {
        "id": "oeq6CYzB6IKh",
        "colab_type": "code",
        "colab": {}
      },
      "cell_type": "code",
      "source": [
        "from keras import optimizers\n",
        "\n",
        "model.compile(optimizer=optimizers.RMSprop(lr=0.001),\n",
        "              loss='binary_crossentropy',\n",
        "              metrics=['accuracy'])"
      ],
      "execution_count": 0,
      "outputs": []
    },
    {
      "metadata": {
        "id": "lJp4rKJ36IKo",
        "colab_type": "text"
      },
      "cell_type": "markdown",
      "source": [
        "The latter can be done by passing function objects as the `loss` or `metrics` arguments:\n",
        "후자의 경우에는 loss와 metrics  매개 변수에 함수 객체를 전달하면 됨. "
      ]
    },
    {
      "metadata": {
        "id": "rSpAABU66IKo",
        "colab_type": "code",
        "colab": {}
      },
      "cell_type": "code",
      "source": [
        "from keras import losses\n",
        "from keras import metrics\n",
        "\n",
        "model.compile(optimizer=optimizers.RMSprop(lr=0.001),\n",
        "              loss=losses.binary_crossentropy,\n",
        "              metrics=[metrics.binary_accuracy])"
      ],
      "execution_count": 0,
      "outputs": []
    },
    {
      "metadata": {
        "id": "AJ3MPmC86IKr",
        "colab_type": "text"
      },
      "cell_type": "markdown",
      "source": [
        "## 3.4.4 훈련 검증\n",
        "\n",
        "훈련하는 동안 처음 본 데이터에 대한 모델의 정확도를 측정하기 위해서는 원본 훈련 데이터에서 10,000의 샘플을 떼어 검증 세트를 만들어야 함. (\"validated set\")"
      ]
    },
    {
      "metadata": {
        "id": "2zz45NSD6IKr",
        "colab_type": "code",
        "colab": {}
      },
      "cell_type": "code",
      "source": [
        "x_val = x_train[:10000]\n",
        "partial_x_train = x_train[10000:]\n",
        "\n",
        "y_val = y_train[:10000]\n",
        "partial_y_train = y_train[10000:]"
      ],
      "execution_count": 0,
      "outputs": []
    },
    {
      "metadata": {
        "id": "4IP-j3U_6IKb",
        "colab_type": "code",
        "colab": {}
      },
      "cell_type": "code",
      "source": [
        "#모델 컴파일하기\n",
        "model.compile(optimizer='rmsprop',\n",
        "              loss='binary_crossentropy',\n",
        "              metrics=['accuracy'])"
      ],
      "execution_count": 0,
      "outputs": []
    },
    {
      "metadata": {
        "collapsed": true,
        "id": "ABhcbmGK6IKx",
        "colab_type": "text"
      },
      "cell_type": "markdown",
      "source": [
        "**이제 모델을 512개의 샘플씩 미니 배치를 만들어 20번의 에포크 동안 훈련시킴 (x_train과 y_train 텐서에 있는 모든 샘플에 대해 20번 반복)**\n",
        "\n",
        "**동시에 따로 떼어 놓은 1만 개의 샘플에서 손실과 정확도를 측정. 이렇게 하려면 validation_data 매개 변수에 검증 데이터를 전달.**"
      ]
    },
    {
      "metadata": {
        "id": "mX7Pxjuy6IK3",
        "colab_type": "text"
      },
      "cell_type": "markdown",
      "source": [
        "On CPU, this will take less than two seconds per epoch -- training is over in 20 seconds. At the end of every epoch, there is a slight pause \n",
        "as the model computes its loss and accuracy on the 10,000 samples of the validation data."
      ]
    },
    {
      "metadata": {
        "id": "_qV2bOMZB5ag",
        "colab_type": "text"
      },
      "cell_type": "markdown",
      "source": [
        "model.fit() 메서드는 History 객체를 반환함. 이 객체는 훈련하는 동안 발생한 모든 정보를 담고 있는 딕셔너리인 history 속성을 가지고 있음. \n",
        "\n",
        "    history_dict = history.history\n",
        "    history_dict.keys()"
      ]
    },
    {
      "metadata": {
        "id": "bG0WHAf66IKy",
        "colab_type": "code",
        "colab": {
          "base_uri": "https://localhost:8080/",
          "height": 785
        },
        "outputId": "52d0e70e-70ba-4740-e61a-9654fcdae8c1"
      },
      "cell_type": "code",
      "source": [
        "history = model.fit(partial_x_train,\n",
        "                    partial_y_train,\n",
        "                    epochs=20,\n",
        "                    batch_size=512,\n",
        "                    validation_data=(x_val, y_val))"
      ],
      "execution_count": 17,
      "outputs": [
        {
          "output_type": "stream",
          "text": [
            "WARNING:tensorflow:From /usr/local/lib/python3.6/dist-packages/tensorflow/python/ops/math_ops.py:3066: to_int32 (from tensorflow.python.ops.math_ops) is deprecated and will be removed in a future version.\n",
            "Instructions for updating:\n",
            "Use tf.cast instead.\n",
            "Train on 15000 samples, validate on 10000 samples\n",
            "Epoch 1/20\n",
            "15000/15000 [==============================] - 3s 179us/step - loss: 0.5042 - acc: 0.7887 - val_loss: 0.3776 - val_acc: 0.8707\n",
            "Epoch 2/20\n",
            "15000/15000 [==============================] - 2s 131us/step - loss: 0.2991 - acc: 0.9047 - val_loss: 0.3001 - val_acc: 0.8898\n",
            "Epoch 3/20\n",
            "15000/15000 [==============================] - 2s 132us/step - loss: 0.2173 - acc: 0.9283 - val_loss: 0.3080 - val_acc: 0.8715\n",
            "Epoch 4/20\n",
            "15000/15000 [==============================] - 2s 132us/step - loss: 0.1748 - acc: 0.9437 - val_loss: 0.2822 - val_acc: 0.8850\n",
            "Epoch 5/20\n",
            "15000/15000 [==============================] - 2s 132us/step - loss: 0.1422 - acc: 0.9542 - val_loss: 0.2856 - val_acc: 0.8856\n",
            "Epoch 6/20\n",
            "15000/15000 [==============================] - 2s 131us/step - loss: 0.1148 - acc: 0.9649 - val_loss: 0.3146 - val_acc: 0.8777\n",
            "Epoch 7/20\n",
            "15000/15000 [==============================] - 2s 132us/step - loss: 0.0978 - acc: 0.9711 - val_loss: 0.3130 - val_acc: 0.8841\n",
            "Epoch 8/20\n",
            "15000/15000 [==============================] - 2s 130us/step - loss: 0.0806 - acc: 0.9765 - val_loss: 0.3869 - val_acc: 0.8654\n",
            "Epoch 9/20\n",
            "15000/15000 [==============================] - 2s 131us/step - loss: 0.0661 - acc: 0.9821 - val_loss: 0.3639 - val_acc: 0.8776\n",
            "Epoch 10/20\n",
            "15000/15000 [==============================] - 2s 130us/step - loss: 0.0559 - acc: 0.9845 - val_loss: 0.3859 - val_acc: 0.8777\n",
            "Epoch 11/20\n",
            "15000/15000 [==============================] - 2s 132us/step - loss: 0.0435 - acc: 0.9900 - val_loss: 0.4178 - val_acc: 0.8769\n",
            "Epoch 12/20\n",
            "15000/15000 [==============================] - 2s 134us/step - loss: 0.0382 - acc: 0.9912 - val_loss: 0.4547 - val_acc: 0.8696\n",
            "Epoch 13/20\n",
            "15000/15000 [==============================] - 2s 136us/step - loss: 0.0292 - acc: 0.9936 - val_loss: 0.4707 - val_acc: 0.8736\n",
            "Epoch 14/20\n",
            "15000/15000 [==============================] - 2s 131us/step - loss: 0.0258 - acc: 0.9943 - val_loss: 0.5028 - val_acc: 0.8717\n",
            "Epoch 15/20\n",
            "15000/15000 [==============================] - 2s 131us/step - loss: 0.0168 - acc: 0.9982 - val_loss: 0.5356 - val_acc: 0.8705\n",
            "Epoch 16/20\n",
            "15000/15000 [==============================] - 2s 131us/step - loss: 0.0156 - acc: 0.9977 - val_loss: 0.5689 - val_acc: 0.8697\n",
            "Epoch 17/20\n",
            "15000/15000 [==============================] - 2s 132us/step - loss: 0.0136 - acc: 0.9973 - val_loss: 0.6210 - val_acc: 0.8675\n",
            "Epoch 18/20\n",
            "15000/15000 [==============================] - 2s 134us/step - loss: 0.0067 - acc: 0.9997 - val_loss: 0.6456 - val_acc: 0.8661\n",
            "Epoch 19/20\n",
            "15000/15000 [==============================] - 2s 136us/step - loss: 0.0111 - acc: 0.9977 - val_loss: 0.6741 - val_acc: 0.8660\n",
            "Epoch 20/20\n",
            "15000/15000 [==============================] - 2s 132us/step - loss: 0.0075 - acc: 0.9985 - val_loss: 0.7026 - val_acc: 0.8662\n"
          ],
          "name": "stdout"
        }
      ]
    },
    {
      "metadata": {
        "id": "kdOpcHOVCIm5",
        "colab_type": "code",
        "colab": {}
      },
      "cell_type": "code",
      "source": [
        "history_dict = history.history"
      ],
      "execution_count": 0,
      "outputs": []
    },
    {
      "metadata": {
        "id": "hs397tRHCK-h",
        "colab_type": "code",
        "colab": {
          "base_uri": "https://localhost:8080/",
          "height": 34
        },
        "outputId": "daa1396e-0e7c-42ee-a195-ebaf215baae7"
      },
      "cell_type": "code",
      "source": [
        "history_dict.keys()"
      ],
      "execution_count": 19,
      "outputs": [
        {
          "output_type": "execute_result",
          "data": {
            "text/plain": [
              "dict_keys(['val_loss', 'val_acc', 'loss', 'acc'])"
            ]
          },
          "metadata": {
            "tags": []
          },
          "execution_count": 19
        }
      ]
    },
    {
      "metadata": {
        "id": "V7khlLqg6IK6",
        "colab_type": "text"
      },
      "cell_type": "markdown",
      "source": [
        "It contains 4 entries: one per metric that was being monitored, during training and during validation. Let's use Matplotlib to plot the \n",
        "training and validation loss side by side, as well as the training and validation accuracy:"
      ]
    },
    {
      "metadata": {
        "id": "QeeeBnj36IK6",
        "colab_type": "code",
        "colab": {
          "base_uri": "https://localhost:8080/",
          "height": 376
        },
        "outputId": "e138457d-746e-4301-87f2-0fb8307c9b1b"
      },
      "cell_type": "code",
      "source": [
        "#훈련과 검증 손실 그리기 \n",
        "import matplotlib.pyplot as plt\n",
        "\n",
        "acc = history.history['acc']\n",
        "val_acc = history.history['val_acc']\n",
        "loss = history.history['loss']\n",
        "val_loss = history.history['val_loss']\n",
        "\n",
        "epochs = range(1, len(acc) + 1)\n",
        "\n",
        "# \"bo\" is for \"blue dot\"\n",
        "plt.plot(epochs, loss, 'bo', label='Training loss')\n",
        "# b is for \"solid blue line\"\n",
        "plt.plot(epochs, val_loss, 'b', label='Validation loss')\n",
        "plt.title('Training and validation loss')\n",
        "plt.xlabel('Epochs')\n",
        "plt.ylabel('Loss')\n",
        "plt.legend()\n",
        "\n",
        "plt.show()"
      ],
      "execution_count": 20,
      "outputs": [
        {
          "output_type": "display_data",
          "data": {
            "image/png": "[encoded data removed]",
            "text/plain": [
              "<Figure size 576x396 with 1 Axes>"
            ]
          },
          "metadata": {
            "tags": []
          }
        }
      ]
    },
    {
      "metadata": {
        "id": "jSko8hrO6IK_",
        "colab_type": "code",
        "colab": {
          "base_uri": "https://localhost:8080/",
          "height": 376
        },
        "outputId": "a3686475-b8a6-4b1a-d849-c550f2bb717d"
      },
      "cell_type": "code",
      "source": [
        "#훈련과 검증 정확도 그리기 \n",
        "\n",
        "plt.clf()   # clear figure 그래프 초기화\n",
        "acc_values = history_dict['acc']\n",
        "val_acc_values = history_dict['val_acc']\n",
        "\n",
        "plt.plot(epochs, acc, 'bo', label='Training acc')\n",
        "plt.plot(epochs, val_acc, 'b', label='Validation acc')\n",
        "plt.title('Training and validation accuracy')\n",
        "plt.xlabel('Epochs')\n",
        "plt.ylabel('Loss')\n",
        "plt.legend()\n",
        "\n",
        "plt.show()"
      ],
      "execution_count": 21,
      "outputs": [
        {
          "output_type": "display_data",
          "data": {
            "image/png": "[encoded data removed]",
            "text/plain": [
              "<Figure size 576x396 with 1 Axes>"
            ]
          },
          "metadata": {
            "tags": []
          }
        }
      ]
    },
    {
      "metadata": {
        "id": "HU-POA1B6ILB",
        "colab_type": "text"
      },
      "cell_type": "markdown",
      "source": [
        "\n",
        "경사 하강법 최적화를 사용했을 때 반복마다 손실을 최소화하므로 훈련 손실이 에포크마다 감소하고 훈련 정확도는 에포크마다 증가함. 검증 손실과 정확도는 이와 같지 않음. 4번째 에포크에서 그래프가 역전되는 것을 볼 수 있음. => 과대적합(overfitting)\n",
        "2번째 에포크 이후부터 훈련 데이터에 과도하게 최적화되어 훈련 데이터에 특화된 표현을 학습하므로 훈련 세트 이외의 데이터에는 일반화되지 못함. \n",
        "이런 경우 오버피팅 방지를 위해 3번째 에포크 이후에 훈련을 중지할 수 있음. (자세한건 4장에서. )\n",
        "\n",
        "처음부터 다시 새로운 신경망을 4번째 에포크 동안만 훈련하고 테스트 데이터에서 평가해보자. \n",
        "\n",
        "Let's train a new network from scratch for four epochs, then evaluate it on our test data:"
      ]
    },
    {
      "metadata": {
        "id": "7J14Kx3r6ILC",
        "colab_type": "code",
        "colab": {
          "base_uri": "https://localhost:8080/",
          "height": 170
        },
        "outputId": "6e42528a-aa55-43d7-efb8-ce31dcb345e3"
      },
      "cell_type": "code",
      "source": [
        "#모델을 처음부터 다시 훈련하기 \n",
        "model = models.Sequential()\n",
        "model.add(layers.Dense(16, activation='relu', input_shape=(10000,)))\n",
        "model.add(layers.Dense(16, activation='relu'))\n",
        "model.add(layers.Dense(1, activation='sigmoid'))\n",
        "\n",
        "model.compile(optimizer='rmsprop',\n",
        "              loss='binary_crossentropy',\n",
        "              metrics=['accuracy'])\n",
        "\n",
        "model.fit(x_train, y_train, epochs=4, batch_size=512)\n",
        "results = model.evaluate(x_test, y_test)"
      ],
      "execution_count": 22,
      "outputs": [
        {
          "output_type": "stream",
          "text": [
            "Epoch 1/4\n",
            "25000/25000 [==============================] - 3s 103us/step - loss: 0.4742 - acc: 0.8213\n",
            "Epoch 2/4\n",
            "25000/25000 [==============================] - 2s 96us/step - loss: 0.2677 - acc: 0.9092\n",
            "Epoch 3/4\n",
            "25000/25000 [==============================] - 2s 93us/step - loss: 0.2033 - acc: 0.9284\n",
            "Epoch 4/4\n",
            "25000/25000 [==============================] - 2s 93us/step - loss: 0.1714 - acc: 0.9387\n",
            "25000/25000 [==============================] - 2s 71us/step\n"
          ],
          "name": "stdout"
        }
      ]
    },
    {
      "metadata": {
        "id": "mO2a12my6ILF",
        "colab_type": "code",
        "colab": {
          "base_uri": "https://localhost:8080/",
          "height": 34
        },
        "outputId": "407d526f-83fb-4dc4-d0b2-75b17c5e4be2"
      },
      "cell_type": "code",
      "source": [
        "#최종 결과 \n",
        "results"
      ],
      "execution_count": 23,
      "outputs": [
        {
          "output_type": "execute_result",
          "data": {
            "text/plain": [
              "[0.3113991069126129, 0.8762]"
            ]
          },
          "metadata": {
            "tags": []
          },
          "execution_count": 23
        }
      ]
    },
    {
      "metadata": {
        "id": "ckUkPQfT6ILH",
        "colab_type": "text"
      },
      "cell_type": "markdown",
      "source": [
        "단순한 방식으로도 87%정확도 달성. 최고 수준의 기법을 사용하면 95%에 가까운 성능도 얻을 수 있음. \n",
        "Our fairly naive approach achieves an accuracy of 88%. With state-of-the-art approaches, one should be able to get close to 95%."
      ]
    },
    {
      "metadata": {
        "id": "6qfp7QwW6ILI",
        "colab_type": "text"
      },
      "cell_type": "markdown",
      "source": [
        "## 훈련된 모델로 새로운 데이터에 대해 예측하기\n",
        "\n",
        "모델을 훈련시킨 후에 이를 실전 환경에서 사용하고 싶을 것임. predict 메서드를 사용해서 어떤 리뷰가 긍정일 확률을 예측할 수 있음. (레이블이 1일 확률)\n",
        "After having trained a network, you will want to use it in a practical setting. You can generate the likelihood of reviews being positive \n",
        "by using the `predict` method:"
      ]
    },
    {
      "metadata": {
        "id": "jDulpmHP6ILI",
        "colab_type": "code",
        "colab": {
          "base_uri": "https://localhost:8080/",
          "height": 136
        },
        "outputId": "8e7f192d-ee05-4502-bf4e-43d0080b108a"
      },
      "cell_type": "code",
      "source": [
        "model.predict(x_test)"
      ],
      "execution_count": 24,
      "outputs": [
        {
          "output_type": "execute_result",
          "data": {
            "text/plain": [
              "array([[0.16346872],\n",
              "       [0.99985474],\n",
              "       [0.39974073],\n",
              "       ...,\n",
              "       [0.08230051],\n",
              "       [0.05029902],\n",
              "       [0.45043465]], dtype=float32)"
            ]
          },
          "metadata": {
            "tags": []
          },
          "execution_count": 24
        }
      ]
    },
    {
      "metadata": {
        "id": "JZ1c0J0pEu05",
        "colab_type": "text"
      },
      "cell_type": "markdown",
      "source": [
        "위와 같이 이 모델은 어떤 샘플에 대해 확신을 가지고 있지만 (0.99 또는 그 이상, 0.01 또는 그 이하) 어떤 샘프에 대해서는 확신이 부족함 (0.6, 0.4)"
      ]
    },
    {
      "metadata": {
        "id": "kHJkFLqxEumU",
        "colab_type": "code",
        "colab": {}
      },
      "cell_type": "code",
      "source": [
        ""
      ],
      "execution_count": 0,
      "outputs": []
    },
    {
      "metadata": {
        "id": "4i3j6PE06ILL",
        "colab_type": "text"
      },
      "cell_type": "markdown",
      "source": [
        "## Further experiments\n",
        "\n",
        "\n",
        "* We were using 2 hidden layers. Try to use 1 or 3 hidden layers and see how it affects validation and test accuracy.\n",
        "* Try to use layers with more hidden units or less hidden units: 32 units, 64 units...\n",
        "* Try to use the `mse` loss function instead of `binary_crossentropy`.\n",
        "* Try to use the `tanh` activation (an activation that was popular in the early days of neural networks) instead of `relu`.\n",
        "\n",
        "These experiments will help convince you that the architecture choices we have made are all fairly reasonable, although they can still be \n",
        "improved!"
      ]
    },
    {
      "metadata": {
        "id": "DXB5TRsuE6N6",
        "colab_type": "text"
      },
      "cell_type": "markdown",
      "source": [
        "## 정리 \n",
        "\n",
        "- 원본 데이터를 신경망에 텐서로 주입하기 위해서는 꽤 많은 전처리가 필요. 단어 시퀀스는 이진 벡터로 인코딩 될 수 있고, 다른 인코딩 방식도 있음. \n",
        "- relu 활성화 함수와 함께 Dense 층을 쌓은 네트워크는 (감성 분류를 포함) 여러 종류의 문제에 적용할 수 있음. 앞으로 자주 사용하게 될 것임. \n",
        "- (출력 클래스가 2개인) 이진 분류 문제에서 네트워크는 하나의 유닛과 sigmoid활성화 함수를 가진 Dense 층으로 끝나야 함. 이 신경망의 출력은 확률을 나타내는 0과 1사이의 스칼라 값. \n",
        "- 이진 분류 문제에서 이런 스칼라 시그모이드 출력에 대해 사용할 손실 함수는 binary_crossentropy임. \n",
        "- rmsprop 옵티마이저는 문제에 상관없이 일반적으로 충분히 좋은 선택. "
      ]
    }
  ]
}