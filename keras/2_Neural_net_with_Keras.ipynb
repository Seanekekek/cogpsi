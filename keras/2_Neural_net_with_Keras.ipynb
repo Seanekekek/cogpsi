{
 "cells": [
  {
   "cell_type": "markdown",
   "metadata": {},
   "source": [
    "## Keras & Deep Learning\n",
    "##### book : [Deep Learning with Python by Francois Chollet](https://www.amazon.com/Deep-Learning-Python-Francois-Chollet/dp/1617294438)\n",
    "##### source code : [github](https://github.com/fchollet/deep-learning-with-python-notebooks)"
   ]
  },
  {
   "cell_type": "markdown",
   "metadata": {},
   "source": [
    "# 3.1 신경망의 구조"
   ]
  },
  {
   "cell_type": "markdown",
   "metadata": {},
   "source": [
    "신경망 훈련에 필요한 요소 \n",
    "\n",
    "- **네트워크 (또는 모델)**을 구성하는 **층**\n",
    "- **입력 데이터**와 그에 상응하는 **타겟**\n",
    "- 학습에 사용할 피드백 신호를 정의하는 **손실 함수**\n",
    "- 학습 진행 방식을 결정하는 **옵티마이저**"
   ]
  },
  {
   "cell_type": "markdown",
   "metadata": {},
   "source": [
    "<img src = \"./nn.jpeg\" width = \"400\">"
   ]
  },
  {
   "cell_type": "markdown",
   "metadata": {},
   "source": [
    "### 1. 층: 딥러닝의 구성 단위\n",
    "\n",
    "- 하나 이상의 텐서를 입력으로 받아 하나 이상의 텐서를 출력하는 데이터 처리 모듈. <br>\n",
    "- 대부분의 경우 **가중치**라는 층의 상태를 가짐. 가중치는 확률적 경사 하강법에 의해 학습되는 하나 이상의 텐서이며 여기에 네트워크가 학습한 **지식**이 담겨있음.<br> \n",
    "\n",
    "- 층마다 적절한 텐서 포맷과 데이터 처리 방식이 다름. <br>\n",
    "    - 2D 텐서의 벡터는 밀집 연결층 (densly connected layer)\n",
    "    - 3D 텐서의 시퀀스 데이터는 순환 층(recurrent layer; e.g., LSTM)\n",
    "    - 4D 텐서의 이미지 데이터는 2D 합성곱 층(convolution layer)에 의해 처리 "
   ]
  },
  {
   "cell_type": "markdown",
   "metadata": {},
   "source": [
    "### 2. 모델: 층의 네트워크\n",
    "\n",
    "- 딥러닝 모델은 층으로 만든 비순환 유향 그래프 (Directed Acyclic Graph, DAG)\n",
    "   - 그래프 이론의 비순환 유향 그래프는 그래프의 에지 (edge)에 방향이 있고 한 노드(node)에서 다시 자기 자신으로 돌아올 경로가 없는 그래프\n",
    "- 네트워크 구조는 가설 공간(hypothesis space)를 정의.\n",
    "- 네트워크 구조를 선택함으로써 **가능성 있는 공간**(가설 공간)을 입력 데이터에서 출력 데이터로 매핑하는 일련의 특정 텐서 연산으로 제한함.\n",
    "- 목표는 이런 텐서 연산에 포함된 가중치 텐서의 좋은 값."
   ]
  },
  {
   "cell_type": "markdown",
   "metadata": {},
   "source": [
    "### 3. 손실 함수와 옵티마이저"
   ]
  },
  {
   "cell_type": "markdown",
   "metadata": {},
   "source": [
    "네트워크 구조를 정의한 후 다음 두 가지를 더 선택함.\n",
    "\n",
    "1. 손실함수(loss function, 목적 함수objective function)): 주어진 문제에 대한 성공 지표가 되며 훈련하는 동안 최소화될 값. \n",
    "2. 옵티마이저(optimizer) : 손실 함수를 기반으로 네트워크가 어떻게 업데이트될지 결정함. 특정 종류의 확률적 경사 하강법(SGD)구현.\n",
    "\n",
    "신경망에서는 여러 개의 출력을 내기 때문에 여러 개의 손실 함수를 가짐 (출력 당 하나씩). <br>\n",
    "하지만 경사 하강법 과정은 하나의 스칼라 손실 값을 기준으로 함. <br>\n",
    "따라서 손실이 여러개인 네트워크에서는 모든 손실이 (평균을 내서) 하나의 스칼라 양으로 합쳐짐<br>"
   ]
  },
  {
   "cell_type": "markdown",
   "metadata": {},
   "source": [
    "# 3.2 Keras\n",
    "\n",
    "https://keras.io\n",
    "\n",
    "- MIT Licensce\n",
    "- 딥러닝 모델을 만들기 위한 고수준의 구성 요소를 제공하는 모델 수준의 라이브러리. \n",
    "- 텐서 조작이나 미분 같은 저수준의 연산은 다루지 않음. \n",
    "- 대신 다수의 벡엔드 엔진 지원 (TensorFlow, Theano, CNTK)"
   ]
  },
  {
   "cell_type": "markdown",
   "metadata": {},
   "source": [
    "# 3.3 Using Keras "
   ]
  },
  {
   "cell_type": "markdown",
   "metadata": {},
   "source": [
    "전형적인 케라스 작업 흐름은 다음과 비슷하다. \n",
    "\n",
    "1. 입력 텐서와 타깃 텐서로 이루어진 훈련 데이터 정의\n",
    "2. 입력과 타깃을 매핑하는 층으로 이루어진 네트워크(또는 모델) 정의\n",
    "3. 손실 함수, 옵티마이저, 모니터링하기 위한 측정 지표를 선택하여 학습 과정 설정. \n",
    "4. 훈련 데이터에 대해 모델의 fit() method를 반복적으로 호출. "
   ]
  },
  {
   "cell_type": "markdown",
   "metadata": {},
   "source": [
    "모델 정의 \n",
    "1. Sequential class (가장 자주 사용하는 구조인 층을 순서대로 쌓아 올린 네트워크)\n",
    "2. 함수형 API (완전히 임의의 구조를 만들 수 있는 비순환 유향 그래프를 생성)\n"
   ]
  },
  {
   "cell_type": "code",
   "execution_count": null,
   "metadata": {
    "scrolled": false
   },
   "outputs": [],
   "source": [
    "from keras import models\n",
    "from keras import layers"
   ]
  }
 ],
 "metadata": {
  "kernelspec": {
   "display_name": "Python 3",
   "language": "python",
   "name": "python3"
  },
  "language_info": {
   "codemirror_mode": {
    "name": "ipython",
    "version": 3
   },
   "file_extension": ".py",
   "mimetype": "text/x-python",
   "name": "python",
   "nbconvert_exporter": "python",
   "pygments_lexer": "ipython3",
   "version": "3.6.8"
  }
 },
 "nbformat": 4,
 "nbformat_minor": 2
}
